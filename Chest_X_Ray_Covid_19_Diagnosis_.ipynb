{
  "nbformat": 4,
  "nbformat_minor": 0,
  "metadata": {
    "colab": {
      "name": "Chest X-Ray Covid-19 Diagnosis .ipynb",
      "provenance": [],
      "collapsed_sections": [],
      "authorship_tag": "ABX9TyNhsOucVzbrOKjmXS2ZWyEU",
      "include_colab_link": true
    },
    "kernelspec": {
      "name": "python3",
      "display_name": "Python 3"
    }
  },
  "cells": [
    {
      "cell_type": "markdown",
      "metadata": {
        "id": "view-in-github",
        "colab_type": "text"
      },
      "source": [
        "<a href=\"https://colab.research.google.com/github/ahmedhammad97/Chest-X-Ray-Covid-19-Diagnosis/blob/main/Chest_X_Ray_Covid_19_Diagnosis_.ipynb\" target=\"_parent\"><img src=\"https://colab.research.google.com/assets/colab-badge.svg\" alt=\"Open In Colab\"/></a>"
      ]
    },
    {
      "cell_type": "code",
      "metadata": {
        "id": "rWNX0nRflhSa"
      },
      "source": [
        "import torch\n",
        "import torch.nn as nn\n",
        "import torch.nn.functional as F\n",
        "import numpy as np\n",
        "import cv2\n",
        "import os\n",
        "import torch.optim as optim\n",
        "from sklearn import metrics\n",
        "from sklearn.model_selection import train_test_split\n",
        "from torch.utils.data import Dataset, DataLoader\n",
        "from random import shuffle"
      ],
      "execution_count": null,
      "outputs": []
    },
    {
      "cell_type": "markdown",
      "metadata": {
        "id": "uNNYtTfEb2hV"
      },
      "source": [
        "# Mounting to Drive"
      ]
    },
    {
      "cell_type": "code",
      "metadata": {
        "colab": {
          "base_uri": "https://localhost:8080/"
        },
        "id": "PkjTFNeyyw33",
        "outputId": "2ec0b67e-7fcc-415c-9a09-21334ca2ae5d"
      },
      "source": [
        "from google.colab import drive\n",
        "drive.mount('/content/drive')"
      ],
      "execution_count": null,
      "outputs": [
        {
          "output_type": "stream",
          "text": [
            "Drive already mounted at /content/drive; to attempt to forcibly remount, call drive.mount(\"/content/drive\", force_remount=True).\n"
          ],
          "name": "stdout"
        }
      ]
    },
    {
      "cell_type": "code",
      "metadata": {
        "colab": {
          "base_uri": "https://localhost:8080/"
        },
        "id": "so2Tp20uK9Ne",
        "outputId": "a66558fa-3f08-4909-88ae-4cdb07647679"
      },
      "source": [
        "%cd \"/content/drive/My Drive/Chest X-Ray Dataset\""
      ],
      "execution_count": null,
      "outputs": [
        {
          "output_type": "stream",
          "text": [
            "/content/drive/My Drive/Chest X-Ray Dataset\n"
          ],
          "name": "stdout"
        }
      ]
    },
    {
      "cell_type": "markdown",
      "metadata": {
        "id": "cPI-K4ChcD2U"
      },
      "source": [
        "# Dataset Preparation"
      ]
    },
    {
      "cell_type": "code",
      "metadata": {
        "id": "_Ukb5qB0zrFd"
      },
      "source": [
        "def read_dataset(folder_path, label):\n",
        "  paths = [os.path.abspath(folder_path + image_path) for image_path in os.listdir(folder_path)]\n",
        "  labels = [label] * len(paths)\n",
        "  return paths, labels"
      ],
      "execution_count": null,
      "outputs": []
    },
    {
      "cell_type": "code",
      "metadata": {
        "id": "9GoUnc4L7kk2"
      },
      "source": [
        "def read_all_datasets():\n",
        "  covid_paths, covid_labels = read_dataset(\"COVID/\", 1)\n",
        "  normal_paths, normal_labels = read_dataset(\"NORMAL/\", 0)\n",
        "  pneumonia_paths, pneumonia_labels = read_dataset(\"PNEUMONIA/\", 0)\n",
        "  paths = covid_paths + covid_paths + normal_paths + pneumonia_paths\n",
        "  labels = covid_labels + covid_labels + normal_labels + pneumonia_labels\n",
        "  zipped_dataset = c = list(zip(paths, labels))\n",
        "  shuffle(zipped_dataset)\n",
        "  return zip(*zipped_dataset)"
      ],
      "execution_count": null,
      "outputs": []
    },
    {
      "cell_type": "markdown",
      "metadata": {
        "id": "UTTGqRYkcJj3"
      },
      "source": [
        "# Dataset Split"
      ]
    },
    {
      "cell_type": "code",
      "metadata": {
        "id": "jpZ7lFUy71Kp"
      },
      "source": [
        "full_data, full_labels = read_all_datasets()\n",
        "train_data, test_data, train_labels, test_labels = train_test_split(full_data, full_labels, test_size=0.2, random_state=1, stratify=full_labels)\n",
        "train_data, val_data, train_labels, val_labels = train_test_split(train_data, train_labels, test_size=0.25, random_state=1, stratify=train_labels)"
      ],
      "execution_count": null,
      "outputs": []
    },
    {
      "cell_type": "markdown",
      "metadata": {
        "id": "kSe73ZOPcM40"
      },
      "source": [
        "# Dataset Class"
      ]
    },
    {
      "cell_type": "code",
      "metadata": {
        "id": "KeTc0K-xnWhY"
      },
      "source": [
        "class DatasetWrapper(Dataset):\n",
        "  def __init__(self, array, labels):\n",
        "    self.array = array\n",
        "    self.labels = labels\n",
        "\n",
        "  def __getitem__(self, index):\n",
        "    image = cv2.imread(self.array[index],)\n",
        "    image = cv2.resize(image, (128, 128), interpolation=cv2.INTER_AREA)\n",
        "    image = image.reshape((3, 128, 128))\n",
        "    label = self.labels[index]\n",
        "    return torch.tensor(image).float(), torch.tensor(label)\n",
        "\n",
        "  def __len__(self):\n",
        "    return len(self.array)"
      ],
      "execution_count": null,
      "outputs": []
    },
    {
      "cell_type": "code",
      "metadata": {
        "id": "A_PAwrc-u1cj"
      },
      "source": [
        "train_dataset = DatasetWrapper(train_data, train_labels)\n",
        "val_dataset = DatasetWrapper(val_data, val_labels)\n",
        "test_dataset = DatasetWrapper(test_data, test_labels)"
      ],
      "execution_count": null,
      "outputs": []
    },
    {
      "cell_type": "markdown",
      "metadata": {
        "id": "cqVl01_qcUUZ"
      },
      "source": [
        "# DataLoaders "
      ]
    },
    {
      "cell_type": "code",
      "metadata": {
        "id": "gUxZ8snEvKzI"
      },
      "source": [
        "batch_size = 16\n",
        "train_dataloader = DataLoader(train_dataset, batch_size=batch_size, shuffle=True)\n",
        "val_dataloader = DataLoader(val_dataset, batch_size=batch_size, shuffle=True)\n",
        "test_dataloader = DataLoader(test_dataset, batch_size=batch_size, shuffle=True)"
      ],
      "execution_count": null,
      "outputs": []
    },
    {
      "cell_type": "markdown",
      "metadata": {
        "id": "TbwOkirAcXJu"
      },
      "source": [
        "# CNN Basic Model"
      ]
    },
    {
      "cell_type": "code",
      "metadata": {
        "id": "mSMmpFhpymdE"
      },
      "source": [
        "class Model(nn.Module):\n",
        "  def __init__(self):\n",
        "    super(Model, self).__init__()\n",
        "    self.conv1 = nn.Conv2d(3, 8, 3)\n",
        "    self.fc1 = nn.Linear(8*126*126, 32)\n",
        "    self.fc2 = nn.Linear(32, 2)\n",
        "\n",
        "  def forward(self, x):\n",
        "    x = self.conv1(x)\n",
        "    x = F.relu(x)\n",
        "    x = x.reshape(-1, 8*126*126)\n",
        "    x = self.fc1(x)\n",
        "    x = self.fc2(x)\n",
        "    return x"
      ],
      "execution_count": null,
      "outputs": []
    },
    {
      "cell_type": "markdown",
      "metadata": {
        "id": "N4lfkHP_ce0G"
      },
      "source": [
        "# Training Loop"
      ]
    },
    {
      "cell_type": "code",
      "metadata": {
        "id": "4o9SYDfWIhJL"
      },
      "source": [
        "def run_model(model, dataloader, optimizer, is_train=False):\n",
        "  predictions = []\n",
        "  epoch_labels = []\n",
        "  loss_type = nn.CrossEntropyLoss()\n",
        "  total_loss = 0\n",
        "  optimizer.zero_grad()\n",
        "\n",
        "  if is_train:\n",
        "    model.train()\n",
        "    for(data, labels) in dataloader:\n",
        "      output = model(data)\n",
        "      loss = loss_type(output, labels)\n",
        "      total_loss += loss.item()\n",
        "      loss.backward()\n",
        "      optimizer.step()\n",
        "      predictions += torch.argmax(output, 1)\n",
        "      epoch_labels += labels.tolist()\n",
        "  else:\n",
        "    with torch.no_grad():\n",
        "      for(data, labels) in dataloader:\n",
        "        output = model(data)\n",
        "        loss = loss_type(output, labels)\n",
        "        total_loss += loss.item()\n",
        "        predictions += torch.argmax(output, 1)\n",
        "        epoch_labels += labels.tolist()\n",
        "\n",
        "  epoch_loss = total_loss / len(dataloader)\n",
        "  return predictions, epoch_labels, epoch_loss"
      ],
      "execution_count": null,
      "outputs": []
    },
    {
      "cell_type": "code",
      "metadata": {
        "id": "UxBA02yKWYzQ"
      },
      "source": [
        "model = Model()\n",
        "epochs = 10\n",
        "optimizer = optim.Adam(model.parameters(), 0.0005)"
      ],
      "execution_count": null,
      "outputs": []
    },
    {
      "cell_type": "markdown",
      "metadata": {
        "id": "hnoiJLBAckpk"
      },
      "source": [
        "# Basic Model Run"
      ]
    },
    {
      "cell_type": "code",
      "metadata": {
        "colab": {
          "base_uri": "https://localhost:8080/"
        },
        "id": "CzN99TG6EvTV",
        "outputId": "f519d0f9-1245-483f-8609-6b2a1daa6866"
      },
      "source": [
        "for _ in range(epochs):\n",
        "  t_predictions, t_labels, t_loss = run_model(model, train_dataloader, optimizer, True)\n",
        "  print(\"loss: \" + str(t_loss))\n",
        "  print(\"Accuracy: \" + str(metrics.accuracy_score(t_labels, t_predictions)))\n",
        "  print(\"F1: \" + str(metrics.f1_score(t_labels, t_predictions)))"
      ],
      "execution_count": null,
      "outputs": [
        {
          "output_type": "stream",
          "text": [
            "loss: 59.125044097969884\n",
            "Accuracy: 0.929177545691906\n",
            "F1: 0.9250949257852952\n",
            "loss: 6.589976001998807\n",
            "Accuracy: 0.9526762402088773\n",
            "F1: 0.94994822229893\n",
            "loss: 1.7075662154818982\n",
            "Accuracy: 0.9751958224543081\n",
            "F1: 0.9737024221453286\n",
            "loss: 1.1755083790051586\n",
            "Accuracy: 0.9797650130548303\n",
            "F1: 0.9786059351276744\n",
            "loss: 0.8560887660678492\n",
            "Accuracy: 0.97911227154047\n",
            "F1: 0.9778546712802768\n",
            "loss: 0.6665811296824123\n",
            "Accuracy: 0.9823759791122716\n",
            "F1: 0.9813407049067036\n",
            "loss: 0.5391734711167406\n",
            "Accuracy: 0.9794386422976501\n",
            "F1: 0.9781477627471383\n",
            "loss: 0.41285918255216664\n",
            "Accuracy: 0.9846605744125326\n",
            "F1: 0.9837538886968544\n",
            "loss: 1.3519114600112125\n",
            "Accuracy: 0.9755221932114883\n",
            "F1: 0.9740932642487047\n",
            "loss: 0.5957302245606485\n",
            "Accuracy: 0.9797650130548303\n",
            "F1: 0.9785911602209945\n"
          ],
          "name": "stdout"
        }
      ]
    },
    {
      "cell_type": "code",
      "metadata": {
        "colab": {
          "base_uri": "https://localhost:8080/"
        },
        "id": "xNQVhHsVwUnG",
        "outputId": "395d8942-034f-4498-b049-6d0c96a16d5b"
      },
      "source": [
        "s_predictions, s_labels, s_loss = run_model(model, test_dataloader, optimizer)\n",
        "print(\"loss: \" + str(s_loss))\n",
        "print(\"Accuracy: \" + str(metrics.accuracy_score(s_labels, s_predictions)))\n",
        "print(\"F1: \" + str(metrics.f1_score(s_labels, s_predictions)))"
      ],
      "execution_count": null,
      "outputs": [
        {
          "output_type": "stream",
          "text": [
            "loss: 1.94937990677087\n",
            "Accuracy: 0.9784735812133072\n",
            "F1: 0.977319587628866\n"
          ],
          "name": "stdout"
        }
      ]
    },
    {
      "cell_type": "markdown",
      "metadata": {
        "id": "qxK_EV19ctBq"
      },
      "source": [
        "# Resnet 18 Model Run"
      ]
    },
    {
      "cell_type": "code",
      "metadata": {
        "id": "5Z2KOlCwXoLw"
      },
      "source": [
        "import torchvision\n",
        "resnet18_model = torchvision.models.resnet18(pretrained = True)\n",
        "resnet18_model.fc = nn.Linear(in_features=512, out_features=2)\n",
        "resnet18_loss_fn = torch.nn.CrossEntropyLoss()\n",
        "resnet18_optimizer = torch.optim.Adam(resnet18_model.parameters(), lr=3e-5)"
      ],
      "execution_count": null,
      "outputs": []
    },
    {
      "cell_type": "code",
      "metadata": {
        "colab": {
          "base_uri": "https://localhost:8080/"
        },
        "id": "ZEHhq_3UhhWP",
        "outputId": "6428c234-bd1f-4b8c-fe3e-69ae4721e86a"
      },
      "source": [
        "for _ in range(epochs):\n",
        "  res18_t_predictions, res18_t_labels, res18_t_loss = run_model(resnet18_model, train_dataloader, resnet18_optimizer, True)\n",
        "  print(\"loss: \" + str(res18_t_loss))\n",
        "  print(\"Accuracy: \" + str(metrics.accuracy_score(res18_t_labels, res18_t_predictions)))\n",
        "  print(\"F1: \" + str(metrics.f1_score(res18_t_labels, res18_t_predictions, average='micro')))"
      ],
      "execution_count": null,
      "outputs": [
        {
          "output_type": "stream",
          "text": [
            "loss: 0.22874556681199465\n",
            "Accuracy: 0.9242819843342036\n",
            "F1: 0.9242819843342036\n",
            "loss: 0.15145689201744972\n",
            "Accuracy: 0.9484334203655352\n",
            "F1: 0.9484334203655354\n",
            "loss: 0.13675613886637925\n",
            "Accuracy: 0.9503916449086162\n",
            "F1: 0.9503916449086162\n",
            "loss: 0.16090566711742818\n",
            "Accuracy: 0.9383159268929504\n",
            "F1: 0.9383159268929504\n",
            "loss: 0.13091504248586716\n",
            "Accuracy: 0.9539817232375979\n",
            "F1: 0.9539817232375979\n",
            "loss: 0.06575200724849613\n",
            "Accuracy: 0.9774804177545692\n",
            "F1: 0.9774804177545692\n",
            "loss: 0.049780298519976895\n",
            "Accuracy: 0.983355091383812\n",
            "F1: 0.983355091383812\n",
            "loss: 0.043961216237827706\n",
            "Accuracy: 0.9866187989556136\n",
            "F1: 0.9866187989556136\n",
            "loss: 0.04461392418564477\n",
            "Accuracy: 0.9827023498694517\n",
            "F1: 0.9827023498694517\n",
            "loss: 0.057782538057836064\n",
            "Accuracy: 0.9794386422976501\n",
            "F1: 0.9794386422976501\n"
          ],
          "name": "stdout"
        }
      ]
    },
    {
      "cell_type": "code",
      "metadata": {
        "colab": {
          "base_uri": "https://localhost:8080/"
        },
        "id": "-f8mtupSAkdw",
        "outputId": "9fa29097-4cc7-4da0-ea5b-e28957456540"
      },
      "source": [
        "res18_s_predictions, res18_s_labels, res18_s_loss = run_model(resnet18_model, test_dataloader, resnet18_optimizer)\n",
        "print(\"loss: \" + str(res18_s_loss))\n",
        "print(\"Accuracy: \" + str(metrics.accuracy_score(res18_s_labels, res18_s_predictions)))\n",
        "print(\"F1: \" + str(metrics.f1_score(res18_s_labels, res18_s_predictions, average='micro')))"
      ],
      "execution_count": null,
      "outputs": [
        {
          "output_type": "stream",
          "text": [
            "loss: 0.11237470885862422\n",
            "Accuracy: 0.9559686888454012\n",
            "F1: 0.9559686888454012\n"
          ],
          "name": "stdout"
        }
      ]
    },
    {
      "cell_type": "markdown",
      "metadata": {
        "id": "6LOKwyH6cwhi"
      },
      "source": [
        "# Resnet 50 Model Run"
      ]
    },
    {
      "cell_type": "code",
      "metadata": {
        "id": "Bosk5dxEA47o"
      },
      "source": [
        "resnet50_model = torchvision.models.resnet50(pretrained = True)\n",
        "resnet50_model.fc = nn.Linear(in_features=2048, out_features=2)\n",
        "resnet50_loss_fn = torch.nn.CrossEntropyLoss()\n",
        "resnet50_optimizer = torch.optim.Adam(resnet50_model.parameters(), lr=0.005)"
      ],
      "execution_count": null,
      "outputs": []
    },
    {
      "cell_type": "code",
      "metadata": {
        "colab": {
          "base_uri": "https://localhost:8080/"
        },
        "id": "Ki5Jy1_RCqrg",
        "outputId": "958901fe-5743-4a79-d8b6-745ffc10eb02"
      },
      "source": [
        "for _ in range(epochs-3):\n",
        "  res50_t_predictions, res50_t_labels, res50_t_loss = run_model(resnet50_model, train_dataloader, resnet50_optimizer, True)\n",
        "  print(\"loss: \" + str(res50_t_loss))\n",
        "  print(\"Accuracy: \" + str(metrics.accuracy_score(res50_t_labels, res50_t_predictions)))\n",
        "  print(\"F1: \" + str(metrics.f1_score(res50_t_labels, res50_t_predictions, average='micro')))"
      ],
      "execution_count": null,
      "outputs": [
        {
          "output_type": "stream",
          "text": [
            "loss: 6.1119900693496065\n",
            "Accuracy: 0.6109660574412533\n",
            "F1: 0.6109660574412533\n",
            "loss: 0.8606067275783668\n",
            "Accuracy: 0.7617493472584856\n",
            "F1: 0.7617493472584856\n",
            "loss: 0.6697553082291657\n",
            "Accuracy: 0.8554177545691906\n",
            "F1: 0.8554177545691906\n",
            "loss: 0.5893698179570492\n",
            "Accuracy: 0.8459530026109661\n",
            "F1: 0.8459530026109661\n",
            "loss: 1.4758600917411968\n",
            "Accuracy: 0.847911227154047\n",
            "F1: 0.8479112271540469\n",
            "loss: 0.35548601805930957\n",
            "Accuracy: 0.8867493472584856\n",
            "F1: 0.8867493472584856\n",
            "loss: 0.5596004112351997\n",
            "Accuracy: 0.7947127937336814\n",
            "F1: 0.7947127937336814\n"
          ],
          "name": "stdout"
        }
      ]
    },
    {
      "cell_type": "code",
      "metadata": {
        "colab": {
          "base_uri": "https://localhost:8080/"
        },
        "id": "cEQB0uxIaVfe",
        "outputId": "60723f38-4b7d-4da9-e8ed-0e832bd09ab2"
      },
      "source": [
        "res50_s_predictions, res50_s_labels, res50_s_loss = run_model(resnet50_model, test_dataloader, resnet50_optimizer)\n",
        "print(\"loss: \" + str(res50_s_loss))\n",
        "print(\"Accuracy: \" + str(metrics.accuracy_score(res50_s_labels, res50_s_predictions)))\n",
        "print(\"F1: \" + str(metrics.f1_score(res50_s_labels, res50_s_predictions, average='micro')))"
      ],
      "execution_count": null,
      "outputs": [
        {
          "output_type": "stream",
          "text": [
            "loss: 2.494884343119338\n",
            "Accuracy: 0.8454011741682974\n",
            "F1: 0.8454011741682974\n"
          ],
          "name": "stdout"
        }
      ]
    }
  ]
}